{
 "cells": [
  {
   "cell_type": "markdown",
   "metadata": {},
   "source": [
    "*Creating a Jupyter Book with The Turing Way*\n",
    "\n",
    "# Module 1: Creating a Jupyter Book with The Turing Way - Introduction\n",
    "\n",
    "*Welcome to the JupyterCon 2020 tutorial! 🎉*"
   ]
  },
  {
   "cell_type": "markdown",
   "metadata": {},
   "source": [
    "📹 [VIDEO](TBA)\n",
    "---\n",
    "\n",
    "🔍 Overview of this tutorial\n",
    "---\n",
    "\n",
    "Jupyter Book is an open source project for building publication-ready books with computational files. \n",
    "The Turing Way is a community-led book project on learning computational skills, which is hosted online as a Jupyter Book. \n",
    "In this tutorial, you will learn about the collaborative nature of both the projects and create your own book using files and chapters from The Turing Way as examples.\n",
    "\n",
    "\n",
    "✅ Prerequisites for the learners\n",
    "---\n",
    "\n",
    "- **prior knowledge of working with GitHub repositories**\n",
    "  - If you haven't worked on GitHub, please take some time to check this [beginners guide to GitHub](https://malvikasharan.github.io/developing_collaborative_document/) (related [video](https://www.youtube.com/watch?v=QRUvQgKbVZQ))\n",
    "- **basic experience working with Markdown files and Jupyter notebooks will be a plus**\n",
    "  - This tutorial is written in MarkDown ([getting started with MarkDown](https://www.markdownguide.org/getting-started/) and Jupyter Notebook ([beginner's guide by Dataquest](https://www.dataquest.io/blog/jupyter-notebook-tutorial/))\n",
    "- **some experience with Unix commands**\n",
    "  - Jupyter Book is a command line tool, commands for which will by used in this tutorial in Jupyter Notebooks.\n",
    "  - Though not required for this tutorial, you can check this beginner's friendly [Unix training material by The Carpentries](https://swcarpentry.github.io/shell-novice/)\n",
    "- **an *optional module* uses an example file with Python scripts**\n",
    "  - Learners who use other programming language can replace Python script with short script or code snippets in programming language of their preference"
   ]
  },
  {
   "cell_type": "markdown",
   "metadata": {},
   "source": [
    "👋 Who we are\n",
    "---\n",
    "\n",
    "**Instructors**\n",
    "\n",
    "- **Martina G. Vilas**: Core maintainer of _The Turing Way_, Open Source contributor of Jupyter Book, PhD student at Max Plank Institute, Germany. *Twitter: [@martinagvilas](https://twitter.com/martinagvilas)*\n",
    "- **Sarah Gibson**: Core maintainer of _The Turing Way_ and Binder, contributor of Project Jupyter, Research Software Engineer, The Alan Turing Institute, UK. *Twitter: [@drsarahlgibson](https://twitter.com/drsarahlgibson)*\n",
    "- **Malvika Sharan**: Community Manager - _The Turing Way_, Research Associate, Whitaker Lab, The Alan Turing Institute, UK. *Twitter: [@malvikasharan](https://twitter.com/malviaksharan)*\n",
    "\n",
    "**Project leads**\n",
    "\n",
    "- **Kirstie Whitaker**: Project lead - _The Turing Way_, head of the Tools, Practices, and Systems research programme, The Alan Turing Institute, UK. *Twitter: [@kirstie_j](https://twitter.com/kirstie_j)*\n",
    "- **Chris Holdgraf**: Project lead - Jupyter Book, member of Project Jupyter and Binder, fellow at the Berkeley Institute for Data Science, USA. *Twitter: [@choldgraf](https://twitter.com/choldgraf)*"
   ]
  },
  {
   "cell_type": "markdown",
   "metadata": {},
   "source": [
    "👍 Tutorial Setup\n",
    "---\n",
    "\n",
    "*This setup guide will take you from reading this page online to reading it locally.*\n",
    "\n",
    "**Jupyter Notebooks**\n",
    "\n",
    "This tutorial will make use of Jupyter Notebooks to guide the lessons (divided into short modules). \n",
    "Please install a Python distribution that comes with Jupyter Notebooks that we will use in the tutorial. \n",
    "\n",
    "We recommend using [Anaconda](https://www.anaconda.com/) or its lightweight version, [Miniconda](https://docs.conda.io/en/latest/miniconda.html). \n",
    "Detailed installation instructions for various operating systems can be found in [Anaconda documentation](https://docs.anaconda.com/anaconda/install) and [Miniconda documentation](https://conda.io/projects/conda/en/latest/user-guide/install/index.html) respectively.\n",
    "\n",
    "**Data**\n",
    "\n",
    "We will use the GitHub repository where all the files including Jupyter Notebooks and example data exist.\n",
    "Please save the complete repository in your local computer using one the following ways:\n",
    "\n",
    "- Download the zip file using [this link](https://github.com/malvikasharan/jupyterbook-with-turing-way/archive/master.zip), and unzip/extract the files to save locally (for example in your Desktop).\n",
    "\n",
    "OR,\n",
    "- Use Git command in your terminal to clone the repository:\n",
    "\n",
    "`git clone https://github.com/malvikasharan/jupyterbook-with-turing-way.git`\n",
    "\n",
    "**Jupyter Book and Python packages**\n",
    "\n",
    "The first part of this tutorial uses Jupyter Book (version 0.8.0) locally on personal computer.\n",
    "You can install the Jupyter-Book Command Line Interface (CLI) using the command `pip install -U jupyter-book`, which will allow you to build and control your Jupyter Book. \n",
    "However, for this tutorial we will also need other Python packages (matplotlib, numpy, pandas, and ruamel.yaml), which has been listed in the `requirements.txt` in the main repository of this tutorial. \n",
    "\n",
    "You can install them all via pip (or pip3) using the following command:\n",
    "\n",
    "`pip install -r requirements.txt`\n",
    "\n",
    "\n",
    "**Launch Jupyter Book**\n",
    "\n",
    "To start working with Jupyter Notebooks, we need to launch it.\n",
    "- Please use the [Software Carpentry lesson setup page](https://swcarpentry.github.io/python-novice-inflammation/setup/index.html#option-a-jupyter-notebook) to launch Jupyter Notebooks locally: follow the steps listed only under [*Option A: Jupyter Notebook*](https://swcarpentry.github.io/python-novice-inflammation/setup/index.html#option-a-jupyter-notebook).\n",
    "- When you have launched your Jupyter Notebook in your browser, please navigate to the folder `2020-jupyterbook-with-turing-way-master` we downloaded in the previous section. Click to open the file `1-welcome.ipynb` inside `notebooks` folder.\n",
    "- If you could successfully open this file, you are ready to get started."
   ]
  },
  {
   "cell_type": "markdown",
   "metadata": {},
   "source": [
    "⏳ Schedule\n",
    "---\n",
    "<!---Link these--->\n",
    "\n",
    "- **Module 1 (this page)**, Duration: 5 minutes \n",
    "  - Introduction to the workshop and initial setup\n",
    "- **[Module 2](./2-introduction.ipynb)**, Duration: 20 minutes\n",
    "  - Introduction to The Turing Way and reproducible research\n",
    "  - Introduction to Jupyter Book projects\n",
    "  - Demo of The Turing Way repository and its JupyterBook\n",
    "  <!---Show important bits: website folder, _toc file, config file--->\n",
    "- **[Module 3](./3-setup-jupyterbook.ipynb)**, Duration: 20 minutes \n",
    "  - Hands-on session on creating the minimal version of the Jupyter\n",
    "  <!---Set up the repository, add a chapter, create a table of content, build the book--->\n",
    "- **[Module 4](./4-config-jupyterbook.ipynb)**, Duration: 20 minutes\n",
    "  - Book configuration, layout and personalisation\n",
    "   <!---config file--->\n",
    "- **[Module 5](./5-more-jupyterbook.ipynb)**, Duration: 20 minutes\n",
    "  - Executable files in a book using Jupyter Notebooks\n",
    "   <!---Create a new JupyterNotebook from scratch--->   \n",
    "- **[Module 6](./6-ci-jupyterbook.ipynb)**, Duration: 20 minutes\n",
    "  - Continuous Integration (CI) and its role in reproducibility\n",
    "  - Deploying Jupyter Book using CI tests of GitHub actions\n",
    "- **[Module 7](./7-final-demo.ipynb)**, Duration: 15 minutes\n",
    "  - Guided demo of Sphinx features in Jupyter Book\n",
    "  - Wrap up\n",
    "  <!---for cross-referencing, citation, pdf export, collaborative workflow on GitHub repository to edit a chapter or propose edits on Jupyter Book--->"
   ]
  },
  {
   "cell_type": "markdown",
   "metadata": {},
   "source": [
    "👉 [Next Module](./2-introduction.ipynb)\n",
    "---"
   ]
  }
 ],
 "metadata": {
  "kernelspec": {
   "display_name": "Python 3",
   "language": "python",
   "name": "python3"
  },
  "language_info": {
   "codemirror_mode": {
    "name": "ipython",
    "version": 3
   },
   "file_extension": ".py",
   "mimetype": "text/x-python",
   "name": "python",
   "nbconvert_exporter": "python",
   "pygments_lexer": "ipython3",
   "version": "3.7.7"
  }
 },
 "nbformat": 4,
 "nbformat_minor": 2
}
